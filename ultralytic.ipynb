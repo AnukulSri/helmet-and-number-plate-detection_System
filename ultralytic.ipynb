{
 "cells": [
  {
   "cell_type": "code",
   "execution_count": 1,
   "metadata": {},
   "outputs": [],
   "source": [
    "from ultralytics import YOLO"
   ]
  },
  {
   "cell_type": "code",
   "execution_count": 2,
   "metadata": {},
   "outputs": [
    {
     "name": "stdout",
     "output_type": "stream",
     "text": [
      "\n",
      "image 1/1 C:\\Users\\anuku\\OneDrive\\Desktop\\helmet and number plate detection\\images\\download.jpeg: 480x640 1 bicycle, 1 car, 1 dog, 1500.7ms\n",
      "Speed: 0.0ms preprocess, 1500.7ms inference, 14.2ms postprocess per image at shape (1, 3, 480, 640)\n"
     ]
    }
   ],
   "source": [
    "model = YOLO('yolov9c.pt')\n",
    "result = model.predict('C:\\\\Users\\\\anuku\\\\OneDrive\\\\Desktop\\\\helmet and number plate detection\\\\images\\\\download.jpeg')\n",
    "result[0].show()"
   ]
  },
  {
   "cell_type": "code",
   "execution_count": 4,
   "metadata": {},
   "outputs": [
    {
     "name": "stdout",
     "output_type": "stream",
     "text": [
      "Empty\n"
     ]
    }
   ],
   "source": [
    "txt = 'ARIMA'\n",
    "print(txt or \"Empty\")"
   ]
  }
 ],
 "metadata": {
  "kernelspec": {
   "display_name": "base",
   "language": "python",
   "name": "python3"
  },
  "language_info": {
   "codemirror_mode": {
    "name": "ipython",
    "version": 3
   },
   "file_extension": ".py",
   "mimetype": "text/x-python",
   "name": "python",
   "nbconvert_exporter": "python",
   "pygments_lexer": "ipython3",
   "version": "3.9.12"
  }
 },
 "nbformat": 4,
 "nbformat_minor": 2
}
