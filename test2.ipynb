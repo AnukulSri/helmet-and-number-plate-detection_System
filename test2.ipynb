{
 "cells": [
  {
   "cell_type": "code",
   "execution_count": 1,
   "metadata": {},
   "outputs": [],
   "source": [
    "import mysql.connector\n",
    "import io\n",
    "\n",
    "# Step 1: Connect to MySQL Database\n",
    "conn = mysql.connector.connect(\n",
    "    host=\"localhost\",\n",
    "    user=\"sqluser\",\n",
    "    password=\"password\",\n",
    "    database=\"python_db\"\n",
    ")\n",
    "\n",
    "cursor = conn.cursor()\n",
    "\n",
    "# Step 2: Retrieve BLOB data from the database\n",
    "cursor.execute(\"SELECT image FROM Plates WHERE id = %s\", (1,))  # Replace '1',6 with the appropriate ID\n",
    "image_data = cursor.fetchone()[0]\n",
    "\n",
    "# Step 3: Save BLOB to a File\n",
    "with open(\"retrieved_image.jpg\", \"wb\") as file:\n",
    "    file.write(image_data)\n",
    "\n",
    "# Step 4: Open and Display the Image\n",
    "from PIL import Image\n",
    "try:\n",
    "    image = Image.open(\"retrieved_image.jpg\")\n",
    "    image.show()  # Opens the image in the default viewer\n",
    "except Exception as e:\n",
    "    print(f\"Error: {e}\")\n",
    "\n",
    "# Close cursor and connection\n",
    "cursor.close()\n",
    "conn.close()\n"
   ]
  }
 ],
 "metadata": {
  "kernelspec": {
   "display_name": "base",
   "language": "python",
   "name": "python3"
  },
  "language_info": {
   "codemirror_mode": {
    "name": "ipython",
    "version": 3
   },
   "file_extension": ".py",
   "mimetype": "text/x-python",
   "name": "python",
   "nbconvert_exporter": "python",
   "pygments_lexer": "ipython3",
   "version": "3.9.12"
  }
 },
 "nbformat": 4,
 "nbformat_minor": 2
}
